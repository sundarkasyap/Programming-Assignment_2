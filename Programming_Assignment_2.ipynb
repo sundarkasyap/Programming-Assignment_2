{
  "nbformat": 4,
  "nbformat_minor": 0,
  "metadata": {
    "colab": {
      "provenance": []
    },
    "kernelspec": {
      "name": "python3",
      "display_name": "Python 3"
    },
    "language_info": {
      "name": "python"
    }
  },
  "cells": [
    {
      "cell_type": "code",
      "execution_count": null,
      "metadata": {
        "colab": {
          "base_uri": "https://localhost:8080/"
        },
        "id": "2aMo823sjALV",
        "outputId": "495eab07-b202-4c38-aba9-6dddc4e433f3"
      },
      "outputs": [
        {
          "output_type": "stream",
          "name": "stdout",
          "text": [
            "enter the kilometers 5\n",
            "converted in to miles  3.106855\n"
          ]
        }
      ],
      "source": [
        "#1\n",
        "km = float(input('enter the kilometers '))\n",
        "con = km * 0.621371\n",
        "print('converted in to miles ',con)"
      ]
    },
    {
      "cell_type": "code",
      "source": [
        "#2\n",
        "cel = float(input('enter the Celsius '))\n",
        "con = (cel*9/5)+32\n",
        "print('converted in to Fahrenheit ',con)"
      ],
      "metadata": {
        "colab": {
          "base_uri": "https://localhost:8080/"
        },
        "id": "-0_eNcNjDkjU",
        "outputId": "3baf217d-6fc2-4677-a864-cff2533a9d4b"
      },
      "execution_count": null,
      "outputs": [
        {
          "output_type": "stream",
          "name": "stdout",
          "text": [
            "enter the Celsius 67\n",
            "converted in to Fahrenheit  152.6\n"
          ]
        }
      ]
    },
    {
      "cell_type": "code",
      "source": [
        "#3\n",
        "import calendar\n",
        "\n",
        "\n",
        "year = int(input(\"Enter year (e.g., 2024): \"))\n",
        "month = int(input(\"Enter month (1-12): \"))\n",
        "\n",
        "cal = calendar.month(year, month)\n",
        "\n",
        "print(cal)\n"
      ],
      "metadata": {
        "colab": {
          "base_uri": "https://localhost:8080/"
        },
        "id": "zYsF6hbrESFW",
        "outputId": "76472ade-7a01-4769-a00e-28d6470fd9cf"
      },
      "execution_count": null,
      "outputs": [
        {
          "output_type": "stream",
          "name": "stdout",
          "text": [
            "Enter year (e.g., 2024): 2024\n",
            "Enter month (1-12): 2\n",
            "   February 2024\n",
            "Mo Tu We Th Fr Sa Su\n",
            "          1  2  3  4\n",
            " 5  6  7  8  9 10 11\n",
            "12 13 14 15 16 17 18\n",
            "19 20 21 22 23 24 25\n",
            "26 27 28 29\n",
            "\n"
          ]
        }
      ]
    },
    {
      "cell_type": "code",
      "source": [
        "#4\n",
        "import cmath\n",
        "\n",
        "a = float(input(\"Enter the coefficient a: \"))\n",
        "b = float(input(\"Enter the coefficient b: \"))\n",
        "c = float(input(\"Enter the coefficient c: \"))\n",
        "\n",
        "\n",
        "discriminant = cmath.sqrt(b**2 - 4*a*c)\n",
        "\n",
        "\n",
        "root1 = (-b + discriminant) / (2*a)\n",
        "root2 = (-b - discriminant) / (2*a)\n",
        "\n",
        "\n",
        "print(\"Root 1:\", root1)\n",
        "print(\"Root 2:\", root2)"
      ],
      "metadata": {
        "id": "L46ZOgcvJSRB",
        "colab": {
          "base_uri": "https://localhost:8080/"
        },
        "outputId": "cf0d6e3d-4dd4-4758-d825-87207c866183"
      },
      "execution_count": 7,
      "outputs": [
        {
          "output_type": "stream",
          "name": "stdout",
          "text": [
            "Enter the coefficient a: 2\n",
            "Enter the coefficient b: 3\n",
            "Enter the coefficient c: 7\n",
            "Root 1: (-0.75+1.713913650100261j)\n",
            "Root 2: (-0.75-1.713913650100261j)\n"
          ]
        }
      ]
    },
    {
      "cell_type": "code",
      "source": [
        "#5\n",
        "x = int(input('enter ur number x '))\n",
        "y = int(input('enter ur number y '))\n",
        "\n",
        "print(\"Before swapping: x =\", x,\", y =\", y)\n",
        "\n",
        "x = x + y\n",
        "y = x - y\n",
        "x = x - y\n",
        "\n",
        "print(\"After swapping: x =\", x, \", y =\", y)\n"
      ],
      "metadata": {
        "colab": {
          "base_uri": "https://localhost:8080/"
        },
        "id": "QMSUhfodNdUC",
        "outputId": "767c5b7d-ca6e-4be3-ef9a-6b9218860c21"
      },
      "execution_count": 5,
      "outputs": [
        {
          "output_type": "stream",
          "name": "stdout",
          "text": [
            "enter ur number x 6\n",
            "enter ur number y 3\n",
            "Before swapping: x = 6 , y = 3\n",
            "After swapping: x = 3 , y = 6\n"
          ]
        }
      ]
    },
    {
      "cell_type": "code",
      "source": [],
      "metadata": {
        "colab": {
          "base_uri": "https://localhost:8080/"
        },
        "id": "ACG-gVmy-uRh",
        "outputId": "2e57c89b-1b44-4c74-d352-9fcf35e239ef"
      },
      "execution_count": 4,
      "outputs": [
        {
          "output_type": "execute_result",
          "data": {
            "text/plain": [
              "5"
            ]
          },
          "metadata": {},
          "execution_count": 4
        }
      ]
    },
    {
      "cell_type": "code",
      "source": [],
      "metadata": {
        "id": "wmu4NMAn_G0q"
      },
      "execution_count": null,
      "outputs": []
    }
  ]
}